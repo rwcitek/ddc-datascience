{
 "cells": [
  {
   "cell_type": "markdown",
   "metadata": {
    "id": "li4U8DGJOu3S"
   },
   "source": [
    "# Prework"
   ]
  },
  {
   "cell_type": "markdown",
   "metadata": {
    "id": "Xz1fx9VqO1vi"
   },
   "source": [
    "## **Welcome!!**\n",
    "\n",
    "This page will walk you through the steps to set up the tools you will be using for this bootcamp.  Along the way you will also create your first couple of projects!  "
   ]
  },
  {
   "cell_type": "markdown",
   "metadata": {
    "id": "AU7m1hph1o6w"
   },
   "source": [
    "##  Instructor Contact Info"
   ]
  },
  {
   "attachments": {},
   "cell_type": "markdown",
   "metadata": {
    "id": "s-KILCb51rn7"
   },
   "source": [
    "If you have any questions, please contact your instructors.\n",
    "\n",
    "**Lead Instructor**  \n",
    "- name: Robert Citek\n",
    "- e-mail: rcitek@cnm.edu\n",
    "- Slack: [@Robert Citek]( https://deepdivecoding.slack.com/team/U03SXD3CQ4C )\n",
    "- LinkedIn: https://www.linkedin.com/in/rwcitek/\n",
    "- GitHub: https://github.com/rwcitek\n",
    "\n",
    "**Assistant Instructor**  \n",
    "- name: Joseph \"Joe\" Olonia\n",
    "- e-mail: jolonia1@cnm.edu\n",
    "- Slack: [@Joe]( https://deepdivecoding.slack.com/team/UUB1N3CJY )\n",
    "- LinkedIn: https://www.linkedin.com/in/joseph-olonia\n",
    "- GitHub: https://github.com/jolonia\n",
    "\n",
    "\n",
    "**Assistant to the Instructor(s)**\n",
    "You are not on an island.  You are not alone in this endeavor. You will run into issues and roadblocks.  Here are some resources to help you along.\n",
    "\n",
    "- Internet search, e.g. Google, Bing, DuckDuckGo\n",
    "- AI assistance, e.g. Gemini, ChatGPT, Claude ( more on this in the future )\n",
    "- your fellow students via Slack\n",
    "- alumni via Slack\n",
    "- your professional network on LinkedIn\n",
    "- GitHub\n",
    "- LinkedIn Learning via the ABQ/Bern Library\n",
    "- O'Reilly Learning Library\n",
    "\n",
    "... usually in that order\n"
   ]
  },
  {
   "cell_type": "markdown",
   "metadata": {
    "id": "1P-hSmV4zsj_"
   },
   "source": [
    "## Prework Schedule"
   ]
  },
  {
   "attachments": {},
   "cell_type": "markdown",
   "metadata": {
    "id": "7O30hkCczu4B"
   },
   "source": [
    "The purpose of prework is to prepare the student for the rigors of the course as well as expose them to its pace and expectations.  For the prework, students are encouraged to seek assistance from various sources, including Google, their peers, and other colleagues. However, they should only approach the instructor if they need clarification regarding the assignment, not for additional help or guidance.\n",
    "\n",
    "Prework is divided into five phases. The first four phases are **required**. The fifth phase is optional, but is recommended. \n",
    "\n",
    "The first day of lecture is on Monday, September 23th, 2024, and starts at 8:00am.\n",
    "\n",
    "**Due Dates:**\n",
    "* Phase 1: 17 days before the start of the bootcamp ( 5pm MT, Friday, September 6th )\n",
    "* Phase 2: 12 days before the start of the bootcamp ( 5pm MT, Wednesday, September 11th )\n",
    "* Phase 3: 10 days before the start of the bootcamp ( 5pm MT, Friday, September 13th )\n",
    "* Phase 4: 4 days before the start of the bootcamp ( 5pm MT, Thursday, September 19th )\n",
    "* Phase 5: Optional\n",
    "\n",
    "> NOTE: if you are not able to turn in any of Phase 1-4 before their respective deadlines, please notify the instructor as soon as possible before the deadline.  Failure to complete the phases on-time without notifying the instructor will very likely result in you being dropped from the boot camp.\n",
    "\n",
    "\n",
    "\n"
   ]
  },
  {
   "cell_type": "markdown",
   "metadata": {},
   "source": [
    "---"
   ]
  },
  {
   "cell_type": "markdown",
   "metadata": {
    "id": "frtUtzEey7s0"
   },
   "source": [
    "# Phase 1: Pro Dev and Setting Up Accounts\n",
    "\n",
    "( estimated time to completion: 3 hours ; due 5pm MT, Friday, September 6th )\n"
   ]
  },
  {
   "cell_type": "markdown",
   "metadata": {
    "id": "MVSMjSji0PIV"
   },
   "source": [
    "## Pro Dev Prework\n",
    "\n",
    "Our support staff of coaches and managers want to get to know you before you begin the bootcamp.\n",
    "\n",
    "Our Career Coach/Talent Manager will help you get started on your Professional Development, aka Pro Dev. Please follow these instructions, including a pre-career survey, that will help us customize your experience: \n",
    "[Data Science Coaching Intake Survey](https://forms.office.com/Pages/ResponsePage.aspx?id=awcO9aWG80WHsD9NDsXpTsIUCWtDXvJGhQZTiITAZOZUOEFIOE44OTJHMUdYQ1ZZMjdRM01JNUxaUCQlQCN0PWcu)\n",
    "\n",
    "After setting up your student accounts and filling out the survey, contact our Coach, Sue. Sue would like to meet with you as soon as possible to learn more about you and your goals. Establishing an early relationship with your coach allows us to personalize your success plan. Please let Sue know when you are available to meet so that she can coordinate schedules. Sue can be reached at sandres1@cnm.edu.\n"
   ]
  },
  {
   "cell_type": "markdown",
   "metadata": {
    "id": "Cf4eNE38F9p0"
   },
   "source": [
    "## Password Manager"
   ]
  },
  {
   "attachments": {},
   "cell_type": "markdown",
   "metadata": {
    "id": "8KWxD97CGAwa"
   },
   "source": [
    "**We STRONGLY recommend setting up a password manager if you don't already use one.**  \n",
    "\n",
    "As a data scientist you will have many different user accounts and credentials.  It is important to keep your login information secure.  \n",
    "\n",
    "**It is also important to use a different, strong password for each account.**  \n",
    "- A password manager makes this easy because you don't have to worry about remembering each one (or reusing the same password which is one of the WORST practices for security).  \n",
    "- Password managers also make it easy to generate new random passwords that are more secure than what most people come up with on their own. \n",
    "\n",
    "We recommend [Bitwarden](https://www.bitwarden.com) because it is open source, easy-to-use, available on all devices/browsers, and the free version is really free forever.  (Lastpass, Dashlane, or another alternative is OK, too.)\n",
    "\n",
    "**Setting up a password manager**  \n",
    "When setting up a password manager, you will pick a 'master password' that will be the encryption key to keep all of your other passwords safe.  You need to make sure to REMEMBER this ONE password.\n",
    "\n",
    "- It is recommended that you pick a phrase you will remember.  \n",
    "- Include some special characters. \n",
    "- Do not reuse an old password for this.\n",
    "\n",
    "In addition to the master password, set up multi-factor or 2-factor authentication ( MFA/2FA ).  [Google Authenticator]( https://googleauthenticator.net/ ), [Authy]( https://authy.com/ ), and [Microsoft Authenticator]( https://www.microsoft.com/en-us/security/mobile-authenticator-app ) are some examples of MFA/2FA mobile apps.\n",
    "\n"
   ]
  },
  {
   "cell_type": "markdown",
   "metadata": {},
   "source": [
    "Some advice from XKCD on how to pick a complex password that is easy to remember:\n",
    "\n",
    "[![Good password](https://imgs.xkcd.com/comics/password_strength.png)](https://xkcd.com/936/)"
   ]
  },
  {
   "cell_type": "markdown",
   "metadata": {},
   "source": [
    "## LinkedIn"
   ]
  },
  {
   "cell_type": "markdown",
   "metadata": {},
   "source": [
    "If you don't already have one, you will need to sign up for a [LinkedIn]( https://www.linkedin.com/ ) account.  We also strongly recommend installing the LinkedIn app on your mobile device and bookmarking it in your browser.\n"
   ]
  },
  {
   "cell_type": "markdown",
   "metadata": {},
   "source": [
    "## Slack"
   ]
  },
  {
   "attachments": {},
   "cell_type": "markdown",
   "metadata": {},
   "source": [
    "\n",
    "You should get an email invite to join Deep Dive Coding's Slack group, using your personal e-mail address.  Do this as soon as possible.  We also strongly recommend installing the Slack app on your mobile device and bookmarking it in your browser.\n",
    "\n",
    "Slack is the best way to contact your instructor if you have any questions about the prework.\n",
    "\n",
    "You will also be added to a Slack channel for your cohort where you can introduce yourself to your classmates and ask them for help as well. (It will be titled `#cohort-datascience-NN` where the `NN` is your cohort number.)"
   ]
  },
  {
   "attachments": {},
   "cell_type": "markdown",
   "metadata": {
    "id": "4hXhzKXlRheO"
   },
   "source": [
    "## Albuquerque and Bernalillo County Library card\n",
    "\n"
   ]
  },
  {
   "cell_type": "markdown",
   "metadata": {
    "id": "t7pagb7dRpuV"
   },
   "source": [
    "There are a number of resources available through the [Albuquerque Bernalillo County Library](https://abqlibrary.org/), including [LinkedIn Learning](https://www.linkedin.com/learning-login/go/cabq).  To access these resources, you will need a [library card number and PIN]( https://abqlibrary.org/about-us/librarycards ).  To get a card, [visit a branch]( https://abqlibrary.org/hours-locations ), fill out a form, provide proof of a mailing address, and get a card.  We also strongly recommend bookmarking the ABQ Library in your browser.\n",
    "\n",
    "Once that you have a library card, pick one of the courses from below to watch all the videos in that course.  These are nice survey courses in Data Science.\n",
    "\n",
    "1. [The Data Science of Economics, Banking, and Finance, with Barton Poulson]( https://www.linkedin.com/learning/the-data-science-of-economics-banking-and-finance-with-barton-poulson )\n",
    "1. [The Data Science of Educational Management and Policy, with Barton Poulson]( https://www.linkedin.com/learning/the-data-science-of-educational-management-and-policy-with-barton-poulson )\n",
    "1. [The Data Science of Gaming and Fantasy Sports]( https://www.linkedin.com/learning/the-data-science-of-gaming-and-fantasy-sports )\n",
    "1. [The Data Science of Government and Political Science, with Barton Poulson]( https://www.linkedin.com/learning/the-data-science-of-government-and-political-science-with-barton-poulson )\n",
    "1. [The Data Science of Healthcare, Medicine, and Public Health]( https://www.linkedin.com/learning/the-data-science-of-healthcare-medicine-and-public-health )\n",
    "1. [The Data Science of Media and Entertainment with Barton Poulson]( https://www.linkedin.com/learning/the-data-science-of-media-and-entertainment-with-barton-poulson )\n",
    "1. [The Data Science of Nonprofit Service Organizations, with Barton Poulson]( https://www.linkedin.com/learning/the-data-science-of-nonprofit-service-organizations-with-barton-poulson )\n",
    "1. [The Data Science of Retail, Sales, and Commerce]( https://www.linkedin.com/learning/the-data-science-of-retail-sales-and-commerce )\n",
    "1. [The Data Science of Sports Management, with Barton Poulson]( https://www.linkedin.com/learning/the-data-science-of-sports-management-with-barton-poulson )\n",
    "\n",
    "\n",
    "\n",
    "\n"
   ]
  },
  {
   "cell_type": "markdown",
   "metadata": {
    "id": "v0wCgNHx0tPM"
   },
   "source": [
    "## Google Account"
   ]
  },
  {
   "attachments": {},
   "cell_type": "markdown",
   "metadata": {
    "id": "BIboQkqt07tz"
   },
   "source": [
    "If you don't already have one, you will need to sign up for a Google Account.  In fact, even if you have one, we recommend creating a new one specifically for the purpose of this bootcamp, something like `{yourname}_ddds@gmail.com` or whatever is easy for you.  In that way, you keep your boot camp material separate from your personal material.\n",
    "\n",
    "Use this [link](https://accounts.google.com/signup) to sign up for Gmail/Google. You’ll need a Google account to be able to use Google Drive, Google Sheets, and Google Colab, which we will use to perform many data science lessons, tasks, exercises, and projects in the cloud.\n",
    "\n"
   ]
  },
  {
   "cell_type": "markdown",
   "metadata": {
    "id": "78vaS1nNUTIB"
   },
   "source": [
    "## Kaggle\n"
   ]
  },
  {
   "cell_type": "markdown",
   "metadata": {
    "id": "3VMlHkdsUznI"
   },
   "source": [
    "\n",
    "From its [Wikipedia page](https://en.wikipedia.org/wiki/Kaggle): \"Kaggle, a subsidiary of Google LLC, is an online community of data scientists and machine learning practitioners. Kaggle allows users to find and publish data sets, explore and build models in a web-based data-science environment, work with other data scientists and machine learning engineers, and enter competitions to solve data science challenges.\"\n",
    "\n",
    "With [Kaggle](https://www.kaggle.com/) you can sign in using your Google, Facebook, or Yahoo account.  Or you can register with an e-mail and password.\n"
   ]
  },
  {
   "cell_type": "markdown",
   "metadata": {},
   "source": [
    "## Docker Hub"
   ]
  },
  {
   "cell_type": "markdown",
   "metadata": {},
   "source": [
    "\"Docker Hub is the world's easiest way to create, manage, and deliver your team's container applications.\"\n",
    "\n",
    "Register at [Docker Hub]( https://hub.docker.com/signup )"
   ]
  },
  {
   "cell_type": "markdown",
   "metadata": {
    "id": "LBUZF2PDFCbt"
   },
   "source": [
    "## Creating a Github Account"
   ]
  },
  {
   "cell_type": "markdown",
   "metadata": {
    "id": "QLiKa-j-xmeK"
   },
   "source": [
    "*If you already have a Github account, you can skip this step.*\n",
    "\n",
    "You will need to create a Github account at www.github.com.  You can follow along with the instructions in the video below.  Here are a few things to keep in mind along the way:\n",
    "\n",
    "- Pick a username that is professional and that you are willing to share with potential employers.\n",
    "- Do NOT use your CNM email address because once you are no longer a student it may not always be available to you.  \n",
    "- Store your username and password in a password manager.\n"
   ]
  },
  {
   "cell_type": "markdown",
   "metadata": {
    "id": "AOBPN1ysm77B"
   },
   "source": [
    "[Creating a GitHub Account - YouTube video](https://www.youtube.com/watch?v=Bh2BbUUs808)."
   ]
  },
  {
   "cell_type": "markdown",
   "metadata": {},
   "source": [
    "## Verifying CNM SSO"
   ]
  },
  {
   "cell_type": "markdown",
   "metadata": {},
   "source": [
    "You should verify that Single Sign On ( SSO ) via your CNM e-mail address works.  Here's one way to do that.  \n",
    "\n",
    "The digital book \"Python for Data Analysis, 3rd Edition\" by Wes McKinney has material available on GitHub.  Do the following steps:\n",
    "1. Connect to the [O'Reilly Learning Library]( https://www.oreilly.com/member/login/ ) \n",
    "1. Enter your CNM e-mail address\n",
    "1. Click on Sign in with SSO\n",
    "1. Open [Chapter One of \"Python for Data Analysis\"]( https://www.oreilly.com/member/login/?next=/library/view/python-for-data/9781098104023/ch01.html )\n",
    "1. Read the section titled \"IPython and Jupyter\"\n",
    "1. Locate the GitHub link in that section and copy/paste it for later to submit in the form to your instructor.\n",
    "\n",
    "I encourage you to read all of Chapter One, if you have the time.  We will cover all the material that it mentions, so it's a nice preview of where we are going.\n",
    "\n"
   ]
  },
  {
   "attachments": {},
   "cell_type": "markdown",
   "metadata": {
    "id": "ppXS2het1Knb"
   },
   "source": [
    "##  Send Account Information to Your Instructor"
   ]
  },
  {
   "attachments": {},
   "cell_type": "markdown",
   "metadata": {
    "id": "Ku5pCG6a1QAo"
   },
   "source": [
    "When you are finished with Phase 1, fill out --> [[THIS FORM]( https://forms.gle/hhXzxzxxERavB4Bz6 )] <-- to notify your instructor that you have completed Phase 1.\n"
   ]
  },
  {
   "cell_type": "markdown",
   "metadata": {},
   "source": [
    "---"
   ]
  },
  {
   "attachments": {},
   "cell_type": "markdown",
   "metadata": {},
   "source": [
    "# Phase 2: Google Drive and Google Sheets\n",
    "\n",
    "( estimated time to completion: 10 hours ; due 5pm MT, Wednesday, September 11th )\n"
   ]
  },
  {
   "attachments": {},
   "cell_type": "markdown",
   "metadata": {},
   "source": [
    "This courses is fairly fast-paced and uses numbers, lists of numbers, and operations on lists of numbers extensively.  Although there are no formal prerequisites, familiarity with working with a spreadsheet such as Google Sheets, Excel, or Numbers provides a definite advantage.\n",
    "\n",
    "LinkedIn Learning provides some nice video courses that walk through using Google Drive and Google Sheets and that will help with the exercises below.  In addition, if you are hitting any roadblocks, please reach out to your cohort ( e.g. post in the cohort Slack channel. )\n",
    "\n",
    "Before watching the videos below, be sure to first log in to [LinkedIn Learning via the ABQ Library]( https://www.linkedin.com/learning-login/go/cabq) before clicking on the links below.\n",
    "\n",
    "- [Intro to Google Drive]( https://www.linkedin.com/learning/google-drive-essential-training-2021 )\n",
    "\n",
    "    0. Introduction\n",
    "    1. Getting Started with Google Drive\n",
    "    1. Work with Files\n",
    "    1. Organize and Search Google Drive\n",
    "    1. Work with Google Docs\n",
    "    1. Collaborate with Google Docs\n",
    "    1. Use Google Drive on a Mobile Device\n",
    "\n",
    "- [Intro to Google Sheets]( https://www.linkedin.com/learning/google-sheets-essential-training-2021 ), the first six chapters\n",
    "\n",
    "    0. Introduction\n",
    "    1. Getting Started with Google Sheets\n",
    "    1. Creating and Managing Spreadsheets\n",
    "    1. Editing Spreadsheets\n",
    "    1. Viewing Spreadsheets\n",
    "    1. Formatting, Printing, Publishing Spreadsheets\n",
    "    1. Working with Spreadsheet Data\n",
    "\n",
    "- [Formulas in Google Sheets]( https://www.linkedin.com/learning/google-sheets-advanced-formulas-and-functions ), the first three chapters\n",
    "\n",
    "    0. Introduction\n",
    "    1. Creating and Managing Formulas\n",
    "    1. Using Mathematical Functions\n",
    "    1. Summarizing Data Using Statistical Functions\n",
    "\n",
    "- [Pivot Tables in Google Sheets]( https://www.linkedin.com/learning/google-sheets-pivot-tables )\n",
    "\n",
    "    0. Introduction\n",
    "    1. Creating and Manipulating Pivot Tables\n",
    "    1. Manipulating Pivot Tables\n",
    "\n",
    "\n",
    "Do these three exercises to brush-up on or to get familiar with common operations within spreadsheets.\n",
    "\n",
    "- Exercise 1: [Descriptive Statistics - 1]( https://github.com/rwcitek/ddc-datascience/blob/2024-05-20-Cohort-14/prework/desc-stat-1.md )\n",
    "- Exercise 2: [Descriptive Statistics - 2]( https://github.com/rwcitek/ddc-datascience/blob/2024-05-20-Cohort-14/prework/desc-stat-2.md )\n",
    "- Exercise 3: [Pivot Tables]( https://github.com/rwcitek/ddc-datascience/blob/2024-05-20-Cohort-14/prework/pivot.md )\n",
    "\n",
    "When you have completed the exercises, save these in a single Google Drive folder, share the folder with your instructor, and notify your instructor via a DM on Slack.  We will go over these exercises on the first day of instruction and again later in the course.\n",
    "\n"
   ]
  },
  {
   "attachments": {},
   "cell_type": "markdown",
   "metadata": {},
   "source": [
    "---"
   ]
  },
  {
   "attachments": {},
   "cell_type": "markdown",
   "metadata": {
    "id": "T4mnzJ2FzGj8"
   },
   "source": [
    "# Phase 3: Intro to the Toolchain\n",
    "\n",
    "( estimated time to completion: 3 hours ; due 5pm MT, Friday, September 13th )\n"
   ]
  },
  {
   "cell_type": "markdown",
   "metadata": {
    "id": "YI_R6bKnQj-p"
   },
   "source": [
    "## Using Github with Google Colab\n",
    "\n",
    "You do NOT have to follow along with this video, but you DO need to watch it before proceeding."
   ]
  },
  {
   "cell_type": "markdown",
   "metadata": {
    "id": "wXns8Zx-m77R"
   },
   "source": [
    "[Using GitHub with Google Colab - YouTube video](https://www.youtube.com/watch?v=qCHH2_UoXfw)."
   ]
  },
  {
   "cell_type": "markdown",
   "metadata": {
    "id": "MHXEUldOPtvz"
   },
   "source": [
    "## Your First Google Colab Project: Plotting Stamp Prices"
   ]
  },
  {
   "cell_type": "markdown",
   "metadata": {
    "id": "XkHSuG3_PyOd"
   },
   "source": [
    "Watch the video below for instructions on completing this project.\n",
    "\n",
    "Below are the links for the data used in this project. \n",
    "\n",
    "Here is the link to cite in your text block:\n",
    "\n",
    "https://vincentarelbundock.github.io/Rdatasets/datasets.html\n",
    "\n",
    "Here is the link to use for actually importing the data using pd.read_csv():\n",
    "\n",
    "https://vincentarelbundock.github.io/Rdatasets/csv/Stat2Data/USstamps.csv"
   ]
  },
  {
   "cell_type": "markdown",
   "metadata": {
    "id": "oWvGZryZm77T"
   },
   "source": [
    "[First Google Colab Project - YouTube video](https://www.youtube.com/watch?v=lfvBMyEll1I)."
   ]
  },
  {
   "cell_type": "markdown",
   "metadata": {
    "id": "9L5t_gy7QUBR"
   },
   "source": [
    "**When you have completed this project, send the link to your Github project to your instructors via Slack.**\n"
   ]
  },
  {
   "cell_type": "markdown",
   "metadata": {},
   "source": [
    "---"
   ]
  },
  {
   "attachments": {},
   "cell_type": "markdown",
   "metadata": {
    "id": "mChckqdizZsn"
   },
   "source": [
    "# Phase 4: Kaggle Classes\n",
    "\n",
    "( estimated time to completion: 20 hours ; due 5pm MT, Thursday, September 19th )\n"
   ]
  },
  {
   "attachments": {},
   "cell_type": "markdown",
   "metadata": {
    "id": "d4UyhQ7f2GKX"
   },
   "source": [
    "This material is provided so that you will have some familiararity with it when we cover it again during class.  Don't worry if you don't understand everything as some of the videos go in to more detail than necessary.  But do be sure to go through all the lessons and queue up your questions to ask during class.\n",
    "\n",
    "**Intro to Markdown**\n",
    "\n",
    "This is one video in a complete course.  You only need to watch this one video on [\"Learning Markdown\"]( https://www.linkedin.com/learning/learning-git-and-github-23011330/learning-markdown ).  Of course, you are welcome to watch the entire course, if you'd like.\n",
    "\n",
    "**Intro to Jupyter Notebooks**\n",
    "\n",
    "This is one video in a complete course.  You only need to watch this one video on [\"Jupyter Notebooks\"]( https://www.linkedin.com/learning/python-essential-training-18764650/jupyter-notebooks ).  Of course, you are welcome to watch the entire course, if you'd like.\n",
    "\n",
    "**Intro to Programming**\n",
    "\n",
    "Read the tutorial text for each lesson in [\"Intro to Programming\"]( https://www.kaggle.com/learn/intro-to-programming ).  This Kaggle course provides a quick introduction to programming using Python within the context of a Jupyter notebook.  You are not required to do the exercises. However, if you have time, do the corresponding exercises.\n",
    "\n",
    "**Intro to Python**\n",
    "\n",
    "Read the tutorial text for each lesson in [\"Python\"]( https://www.kaggle.com/learn/python ).  This Kaggle course provides a deeper introduction to programming using Python within the context of a Jupyter notebook.  You are not required to do the exercises. However, if you have time, do the corresponding exercises.\n",
    "\n",
    "**Data Frames**\n",
    "\n",
    "Read the tutorial text for each lesson in [\"Pandas\"]( https://www.kaggle.com/learn/pandas ).  This Kaggle course provides a quick introduction to using Pandas data frames in Python within the context of a Jupyter notebook.  You are not required to do the exercises. However, if you have time, do the corresponding exercises.\n",
    "\n",
    "**Intro to Stats**\n",
    "\n",
    "This is collection of LinkedIn Learning courses.  You do not have to do the quizes or challenges, unless you have time later.  Initially, just view the videos.\n",
    "\n",
    "- [ Statistical Foundations 1: The Basics]( https://www.linkedin.com/learning/statistics-foundations-1-the-basics )\n",
    "- [ Statistical Foundations 2: Probability]( https://www.linkedin.com/learning/statistics-foundations-2-probability )\n",
    "- [ Statistical Foundations 3: Using Data Sets]( https://www.linkedin.com/learning/statistics-foundations-3-using-data-sets )\n",
    "- [ Statistical Foundations 4: Advanced Topics]( https://www.linkedin.com/learning/statistics-foundations-4-advanced-topics )\n",
    "\n",
    "**SQL**\n",
    "\n",
    "Read the tutorial text for each lesson in [\"Intro to SQL\"]( https://www.kaggle.com/learn/intro-to-sql ).  This Kaggle course provides a quick introduction to SQL using Google BigQuery in Python within the context of a Jupyter notebook.  You are not required to do the exercises. However, if you have time, do the corresponding exercises.\n",
    "\n",
    "**Command Line Basics**\n",
    "\n",
    "This is one course on [\"Learning the Linux Comand Line\"]( https://www.linkedin.com/learning/learning-linux-command-line-14447912/ ).  You do not have to do the quizes or challenges, unless you have time later.  Initially, just view the videos.\n",
    "\n",
    "**Intro to Docker**\n",
    "\n",
    "This is collection of LinkedIn Learning courses.  You do not have to do the quizes or challenges, unless you have time later.  Initially, just view the videos.\n",
    "\n",
    "- [Learning Docker]( https://www.linkedin.com/learning/learning-docker-17236240/ )\n",
    "- [Docker for Data Scientists]( https://www.linkedin.com/learning/docker-for-data-scientists/ )\n",
    "\n",
    "**When you have completed all the tutorials, send a DM to your instructors via Slack.**\n"
   ]
  },
  {
   "cell_type": "markdown",
   "metadata": {},
   "source": [
    "---"
   ]
  },
  {
   "attachments": {},
   "cell_type": "markdown",
   "metadata": {
    "id": "DBJZfIzL0lQi"
   },
   "source": [
    "# Phase 5: Optional \n",
    "\n",
    "If you have completed all of the previous phases, feel free to explore these resources.\n",
    "\n",
    "- [CS50 Lecture on numeracy by Brian Kernighan]( https://youtu.be/kw9KwjJCJH8?si=Uf4FZGOpjGvOgjhq )  Fundamental material from a [luminary in the CS field]( https://en.wikipedia.org/wiki/Brian_Kernighan ).\n",
    "- [The Missing Semester of Your CS Education]( https://missing.csail.mit.edu/ ) Everything up through the git lecture would be relevant to this course, but it's all good stuff to know.\n",
    "- [Whirlwind Tour of Python]( https://github.com/jakevdp/WhirlwindTourOfPython/blob/master/00-Introduction.ipynb ) by Jack VanderPlas, one of the creators of Google's CoLab.  We will cover most if not all of the material in this book.\n",
    "- [Automate the Boring Stuff with Python]( https://automatetheboringstuff.com/#toc ) by Al Sweigart. We will cover the first seven chapters and a smattering of the others.\n",
    "- [Linux and Mac Tutorials]( https://www.youtube.com/playlist?list=PL-osiE80TeTvGhHkpvfmKWOiIPF8UVy6c ) by Corey Schafer on YouTube.  The examples also work if you have [WSL2 enabled on Windows]( https://gist.github.com/rwcitek/f2b6fb5baddf16f6dc1f277a5d9f8366 ).\n",
    "- [Introduction to Prompt Engineering for Generative AI]( https://www.linkedin.com/learning/introduction-to-prompt-engineering-for-generative-ai/ ) Available via the [ABQ Public Library]( https://www.linkedin.com/learning-login/go/cabq )\n",
    "- [Python Data Science Handbook by Jake Vanderplas]( https://github.com/jakevdp/PythonDataScienceHandbook/tree/master/notebooks )\n",
    "- [Database Clinic: SQLite]( https://www.linkedin.com/learning/database-clinic-sqlite/ ) by Mark Niemann-Ross on LinkedIn Learning, available via the [ABQ Public Library]( https://www.linkedin.com/learning-login/go/cabq )\n"
   ]
  }
 ],
 "metadata": {
  "colab": {
   "provenance": []
  },
  "kernelspec": {
   "display_name": "Python 3 (ipykernel)",
   "language": "python",
   "name": "python3"
  },
  "language_info": {
   "codemirror_mode": {
    "name": "ipython",
    "version": 3
   },
   "file_extension": ".py",
   "mimetype": "text/x-python",
   "name": "python",
   "nbconvert_exporter": "python",
   "pygments_lexer": "ipython3",
   "version": "3.10.8"
  }
 },
 "nbformat": 4,
 "nbformat_minor": 4
}
