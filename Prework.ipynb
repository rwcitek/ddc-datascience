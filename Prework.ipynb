{
 "cells": [
  {
   "cell_type": "markdown",
   "metadata": {
    "id": "li4U8DGJOu3S"
   },
   "source": [
    "# Prework"
   ]
  },
  {
   "cell_type": "markdown",
   "metadata": {
    "id": "Xz1fx9VqO1vi"
   },
   "source": [
    "**Welcome!!**\n",
    "\n",
    "This will walk you through the steps to set up the tools you will be using for this bootcamp.  Along the way you will also create your first couple of projects!  "
   ]
  },
  {
   "cell_type": "markdown",
   "metadata": {
    "id": "3OgIeJcRypDf"
   },
   "source": [
    "\n",
    "\n",
    "**Except where noted, you should follow along with all of the steps in the videos.**  \n",
    "\n",
    "- To watch the videos in full screen mode, click on the YouTube link above the video. \n",
    "- For easy navigation, you can show or hide the table of contents for this notebook using the top icon on the menu on the left.  \n",
    "- Click the triangles to the left of the headers to expand or collapse sections."
   ]
  },
  {
   "cell_type": "markdown",
   "metadata": {
    "id": "AU7m1hph1o6w"
   },
   "source": [
    "##  Instructor Contact Info"
   ]
  },
  {
   "cell_type": "markdown",
   "metadata": {
    "id": "s-KILCb51rn7"
   },
   "source": [
    "If you have any questions, please contact your instructors.\n",
    "\n",
    "**Lead Instructor**  \n",
    "Robert Citek: rcitek@cnm.edu or **@Robert Citek** on Slack\n",
    "\n",
    "**Assistant Instructor**  \n",
    "TBD\n"
   ]
  },
  {
   "cell_type": "markdown",
   "metadata": {
    "id": "1P-hSmV4zsj_"
   },
   "source": [
    "## Prework Schedule"
   ]
  },
  {
   "cell_type": "markdown",
   "metadata": {
    "id": "7O30hkCczu4B"
   },
   "source": [
    "Prework is divided into four phases. The first three phases are required. The fourth phase is optional, but is strongly recommended. If the fourth phase is not completed before the bootcamp begins it will be assigned as homework so it will completed at some point during the bootcamp.\n",
    "\n",
    "**Due Dates:**  \n",
    "Phase 1 and Phase 2: 1 week before the start of the bootcamp  \n",
    "Phase 3: Before the start of the bootcamp"
   ]
  },
  {
   "cell_type": "markdown",
   "metadata": {
    "id": "T8ql15S0yzSK"
   },
   "source": [
    "## DataCamp Access"
   ]
  },
  {
   "cell_type": "markdown",
   "metadata": {
    "id": "xa6zfjhiy18u"
   },
   "source": [
    "We have partnered with DataCamp to provide you with a free account while you’re in the bootcamp. Some of our prework is done through DataCamp. You will have access to all DataCamp offerings, so feel free to supplement your learning with other DataCamp offerings (as time allows)."
   ]
  },
  {
   "cell_type": "markdown",
   "metadata": {
    "id": "frtUtzEey7s0"
   },
   "source": [
    "# Phase 1: Pro Dev and Setting Up Accounts"
   ]
  },
  {
   "cell_type": "markdown",
   "metadata": {
    "id": "MVSMjSji0PIV"
   },
   "source": [
    "## Pro Dev Prework\n",
    "\n",
    "Our support staff of coaches and managers want to get to know you before you begin the bootcamp.\n",
    "\n",
    "Our Career Coach/Talent Manager will help you get started on your Professional Development, aka Pro Dev. Please follow these instructions, including a pre-career survey, that will help us customize your experience: \n",
    "[Data Science Coaching Intake Survey](https://forms.office.com/Pages/ResponsePage.aspx?id=awcO9aWG80WHsD9NDsXpTsIUCWtDXvJGhQZTiITAZOZUOEFIOE44OTJHMUdYQ1ZZMjdRM01JNUxaUCQlQCN0PWcu)\n",
    "\n",
    "After setting up your student accounts and filling out the survey, contact our Coach, Sue. Sue would like to meet with you as soon as possible to learn more about you and your goals. Establishing an early relationship with your coach allows us to personalize your success plan. Please let Sue know when you are available to meet so that she can coordinate schedules. Sue can be reached at sandres1@cnm.edu.\n"
   ]
  },
  {
   "cell_type": "markdown",
   "metadata": {
    "id": "Cf4eNE38F9p0"
   },
   "source": [
    "## Password Manager"
   ]
  },
  {
   "cell_type": "markdown",
   "metadata": {
    "id": "8KWxD97CGAwa"
   },
   "source": [
    "**We STRONGLY recommend setting up a password manager if you don't already use one.**  \n",
    "\n",
    "As a data scientist you will have many different user accounts and credentials.  It is important to keep your login information secure.  \n",
    "\n",
    "**It is also important to use a different, strong password for each account.**  \n",
    "- A password manager makes this easy because you don't have to worry about remembering each one (or reusing the same password which is one of the WORST practices for security).  \n",
    "- Password managers also make it easy to generate new random passwords that are more secure than what most people come up with on their own. \n",
    "\n",
    "We recommend [Bitwarden](https://www.bitwarden.com) because it is open source, easy-to-use, availabe on all devices/browsers and the free version is really free forever.  (Lastpass, Dashlane, or another alternative is OK too.)\n",
    "\n",
    "**Setting up a password manager**  \n",
    "When setting up a password manager, you will pick a 'master password' that will be the encryption key to keep all of your other passwords safe.  You need to make sure and REMEMBER this ONE password.  For security, it cannot be reset.\n",
    "- It is recommended that you pick a phrase you will remember.  \n",
    "- Include some special characters. \n",
    "- Do not reuse an old password for this.\n",
    "\n",
    "From XKCD:\n",
    "\n",
    "[![Good password](https://imgs.xkcd.com/comics/password_strength.png)](https://xkcd.com/936/)"
   ]
  },
  {
   "cell_type": "markdown",
   "metadata": {
    "id": "Vk0dbkg90TWc"
   },
   "source": [
    "## DataCamp Free Account"
   ]
  },
  {
   "cell_type": "markdown",
   "metadata": {
    "id": "LkdERXmh3UC3"
   },
   "source": [
    "[This is the DataCamp link](https://www.datacamp.com/). **Be sure to use your CNM.edu email**! Also, just sign up for the free account - we will give you access to the classes when you notify us that your account is active."
   ]
  },
  {
   "cell_type": "markdown",
   "metadata": {
    "id": "x0TQTauhQn7n"
   },
   "source": [
    "## Slack"
   ]
  },
  {
   "cell_type": "markdown",
   "metadata": {
    "id": "2WrpkbuYxC5V"
   },
   "source": [
    "\n",
    "You should get an email invite to join Deep Dive Coding's Slack group.  Do this as soon as possible.  \n",
    "\n",
    "Slack is the best way to contact your instructors if you have any questions about the prework.  \n",
    "\n",
    "You will also be added to a slack channel for your cohort where you can introduce yourself to your classmates and ask them for help as well. (It will be titled #cohort-datascience\\_ where the \\_ is your cohort number.)"
   ]
  },
  {
   "cell_type": "markdown",
   "metadata": {
    "id": "v0wCgNHx0tPM"
   },
   "source": [
    "## Google Account"
   ]
  },
  {
   "cell_type": "markdown",
   "metadata": {
    "id": "BIboQkqt07tz"
   },
   "source": [
    "You will need to sign up for a Google Account if you don't already have one.  \n",
    "\n",
    "This is the [link](https://accounts.google.com/signup) to sign up for Gmail/Google. You’ll need a Gmail account to be able to use Google Colab which we will use to perform data science in the cloud. \n",
    "\n"
   ]
  },
  {
   "cell_type": "markdown",
   "metadata": {
    "id": "LBUZF2PDFCbt"
   },
   "source": [
    "## Creating a Github Account"
   ]
  },
  {
   "cell_type": "markdown",
   "metadata": {
    "id": "QLiKa-j-xmeK"
   },
   "source": [
    "*If you already have a Github account, you can skip this step.*\n",
    "\n",
    "You will need to create a Github account at www.github.com.  You can follow along with the instructions in the video below.  Here are a few things to keep in mind along the way:\n",
    "\n",
    "- Pick a username that is professional and that you are willing to share with potential employers.\n",
    "- Do NOT use your CNM email address because once you are no longer a student it may not always be available to you.  \n",
    "- Store your username and password in a password manager."
   ]
  },
  {
   "cell_type": "markdown",
   "metadata": {},
   "source": [
    "[Direct link to YouTube video](https://www.youtube.com/watch?v=Bh2BbUUs808)."
   ]
  },
  {
   "cell_type": "code",
   "execution_count": 1,
   "metadata": {
    "colab": {
     "base_uri": "https://localhost:8080/",
     "height": 321
    },
    "executionInfo": {
     "elapsed": 407,
     "status": "ok",
     "timestamp": 1611697662333,
     "user": {
      "displayName": "deepdive datascience",
      "photoUrl": "",
      "userId": "06241824193725215643"
     },
     "user_tz": 420
    },
    "id": "likiQME6E8W-",
    "outputId": "1b4142d7-cf83-4ed0-9af8-e035bba8e1cf"
   },
   "outputs": [
    {
     "data": {
      "image/jpeg": "[encoded data removed]",
      "text/html": [
       "\n",
       "        <iframe\n",
       "            width=\"400\"\n",
       "            height=\"300\"\n",
       "            src=\"https://www.youtube.com/embed/Bh2BbUUs808\"\n",
       "            frameborder=\"0\"\n",
       "            allowfullscreen\n",
       "        ></iframe>\n",
       "        "
      ],
      "text/plain": [
       "<IPython.lib.display.YouTubeVideo at 0x79d08476ae80>"
      ]
     },
     "execution_count": 1,
     "metadata": {},
     "output_type": "execute_result"
    }
   ],
   "source": [
    "#@markdown https://www.youtube.com/watch?v=Bh2BbUUs808 {display-mode: \"form\"}\n",
    "from IPython.display import YouTubeVideo\n",
    "YouTubeVideo('Bh2BbUUs808')"
   ]
  },
  {
   "cell_type": "markdown",
   "metadata": {
    "id": "ppXS2het1Knb"
   },
   "source": [
    "##  Send Account Information to Your Instructors"
   ]
  },
  {
   "cell_type": "markdown",
   "metadata": {
    "id": "Ku5pCG6a1QAo"
   },
   "source": [
    "You will need to email or Slack the following information to your instructors to have this phase marked as complete:  \n",
    "- URL of your Github profile\n",
    "- Your Gmail address\n",
    "- Your CNM email address"
   ]
  },
  {
   "cell_type": "markdown",
   "metadata": {
    "id": "T4mnzJ2FzGj8"
   },
   "source": [
    "# Phase 2: Installing Software and Intro to the Toolchain"
   ]
  },
  {
   "cell_type": "markdown",
   "metadata": {
    "id": "YI_R6bKnQj-p"
   },
   "source": [
    "## Using Github with Google Colab\n",
    "\n",
    "You do NOT have to follow along with this video, but you DO need to watch it before proceeding."
   ]
  },
  {
   "cell_type": "markdown",
   "metadata": {},
   "source": [
    "[Direct link to YouTube video](https://www.youtube.com/watch?v=qCHH2_UoXfw)."
   ]
  },
  {
   "cell_type": "code",
   "execution_count": 2,
   "metadata": {
    "colab": {
     "base_uri": "https://localhost:8080/",
     "height": 321
    },
    "executionInfo": {
     "elapsed": 366,
     "status": "ok",
     "timestamp": 1611697650083,
     "user": {
      "displayName": "deepdive datascience",
      "photoUrl": "",
      "userId": "06241824193725215643"
     },
     "user_tz": 420
    },
    "id": "q_jTgf3aQpOL",
    "outputId": "71d3923a-8832-4b9b-ec65-9fac7ec8d916"
   },
   "outputs": [
    {
     "data": {
      "image/jpeg": "[encoded data removed]",
      "text/html": [
       "\n",
       "        <iframe\n",
       "            width=\"400\"\n",
       "            height=\"300\"\n",
       "            src=\"https://www.youtube.com/embed/qCHH2_UoXfw\"\n",
       "            frameborder=\"0\"\n",
       "            allowfullscreen\n",
       "        ></iframe>\n",
       "        "
      ],
      "text/plain": [
       "<IPython.lib.display.YouTubeVideo at 0x79d08478da90>"
      ]
     },
     "execution_count": 2,
     "metadata": {},
     "output_type": "execute_result"
    }
   ],
   "source": [
    "#@markdown https://www.youtube.com/watch?v=qCHH2_UoXfw {display-mode: \"form\"}\n",
    "from IPython.display import YouTubeVideo\n",
    "YouTubeVideo('qCHH2_UoXfw')"
   ]
  },
  {
   "cell_type": "markdown",
   "metadata": {
    "id": "MHXEUldOPtvz"
   },
   "source": [
    "## Your First Google Colab Project: Plotting Stamp Prices"
   ]
  },
  {
   "cell_type": "markdown",
   "metadata": {
    "id": "XkHSuG3_PyOd"
   },
   "source": [
    "Watch the video below for instructions on completing this project.\n",
    "\n",
    "Below are the links for the data used in this project. \n",
    "\n",
    "Here is the link to cite in your text block:\n",
    "https://vincentarelbundock.github.io/Rdatasets/datasets.html\n",
    "\n",
    "Here is the link to use for actually importing the data using pd.read_csv():\n",
    "https://vincentarelbundock.github.io/Rdatasets/csv/Stat2Data/USstamps.csv"
   ]
  },
  {
   "cell_type": "markdown",
   "metadata": {},
   "source": [
    "[Direct link to YouTube video](https://www.youtube.com/watch?v=lfvBMyEll1I)."
   ]
  },
  {
   "cell_type": "code",
   "execution_count": 3,
   "metadata": {
    "cellView": "form",
    "colab": {
     "base_uri": "https://localhost:8080/",
     "height": 321
    },
    "executionInfo": {
     "elapsed": 1409,
     "status": "ok",
     "timestamp": 1590078829386,
     "user": {
      "displayName": "deepdive datascience",
      "photoUrl": "",
      "userId": "06241824193725215643"
     },
     "user_tz": 360
    },
    "id": "yJQJ0-ZOQUk7",
    "outputId": "7f299ff8-553a-4eb4-f961-880d03673324"
   },
   "outputs": [
    {
     "data": {
      "image/jpeg": "[encoded data removed]",
      "text/html": [
       "\n",
       "        <iframe\n",
       "            width=\"400\"\n",
       "            height=\"300\"\n",
       "            src=\"https://www.youtube.com/embed/lfvBMyEll1I\"\n",
       "            frameborder=\"0\"\n",
       "            allowfullscreen\n",
       "        ></iframe>\n",
       "        "
      ],
      "text/plain": [
       "<IPython.lib.display.YouTubeVideo at 0x79d08476aa00>"
      ]
     },
     "execution_count": 3,
     "metadata": {},
     "output_type": "execute_result"
    }
   ],
   "source": [
    "#@markdown https://www.youtube.com/watch?v=lfvBMyEll1I {display-mode: \"form\"}\n",
    "from IPython.display import YouTubeVideo\n",
    "YouTubeVideo('lfvBMyEll1I')"
   ]
  },
  {
   "cell_type": "markdown",
   "metadata": {
    "id": "9L5t_gy7QUBR"
   },
   "source": [
    "**When you have completed this project, send the link to your Github project for it to your instructors via Slack.**"
   ]
  },
  {
   "cell_type": "markdown",
   "metadata": {
    "id": "ipGH567q8JkP"
   },
   "source": [
    "##  Command Line Basics"
   ]
  },
  {
   "cell_type": "markdown",
   "metadata": {
    "id": "opXQEvO4oIyZ"
   },
   "source": [
    "Watch the video below to learn about command line basics. "
   ]
  },
  {
   "cell_type": "markdown",
   "metadata": {},
   "source": [
    "[Direct link to YouTube video](https://www.youtube.com/watch?v=UtO11QUzxWY).\n"
   ]
  },
  {
   "cell_type": "code",
   "execution_count": 4,
   "metadata": {
    "cellView": "form",
    "colab": {
     "base_uri": "https://localhost:8080/",
     "height": 321
    },
    "executionInfo": {
     "elapsed": 1473,
     "status": "ok",
     "timestamp": 1590078645398,
     "user": {
      "displayName": "deepdive datascience",
      "photoUrl": "",
      "userId": "06241824193725215643"
     },
     "user_tz": 360
    },
    "id": "tRPJKmD87t_M",
    "outputId": "a17d5621-6c6c-45f5-d149-7c2ac2eb4a5d"
   },
   "outputs": [
    {
     "data": {
      "image/jpeg": "[encoded data removed]",
      "text/html": [
       "\n",
       "        <iframe\n",
       "            width=\"400\"\n",
       "            height=\"300\"\n",
       "            src=\"https://www.youtube.com/embed/UtO11QUzxWY\"\n",
       "            frameborder=\"0\"\n",
       "            allowfullscreen\n",
       "        ></iframe>\n",
       "        "
      ],
      "text/plain": [
       "<IPython.lib.display.YouTubeVideo at 0x79d086030940>"
      ]
     },
     "execution_count": 4,
     "metadata": {},
     "output_type": "execute_result"
    }
   ],
   "source": [
    "#@markdown https://www.youtube.com/watch?v=UtO11QUzxWY {display-mode: \"form\"}\n",
    "from IPython.display import YouTubeVideo\n",
    "YouTubeVideo('UtO11QUzxWY')"
   ]
  },
  {
   "cell_type": "markdown",
   "metadata": {
    "id": "mChckqdizZsn"
   },
   "source": [
    "# Phase 3: DataCamp Classes"
   ]
  },
  {
   "cell_type": "markdown",
   "metadata": {
    "id": "d4UyhQ7f2GKX"
   },
   "source": [
    "**Python Basics:** Complete the DataCamp course [\"Introduction to Python\"](https://app.datacamp.com/learn/courses/intro-to-python-for-data-science)"
   ]
  },
  {
   "cell_type": "markdown",
   "metadata": {
    "id": "8mmO6Bn5zhXA"
   },
   "source": [
    "# Phase 4: DataCamp Classes (Optional)"
   ]
  },
  {
   "cell_type": "markdown",
   "metadata": {
    "id": "Rz7cQFGj2SuP"
   },
   "source": [
    "This phase is optional, but highly recommended.  \n",
    "\n",
    "**SQL:** Complete the DataCamp course [\"Introduction to SQL\"](https://app.datacamp.com/learn/courses/introduction-to-sql)\n",
    "\n",
    "If you have completed all of the prework and would like to explore more, feel free to take more DataCamp courses.  "
   ]
  }
 ],
 "metadata": {
  "colab": {
   "collapsed_sections": [],
   "name": "Prework.ipynb",
   "provenance": [
    {
     "file_id": "1yliJyGsqQ-hgmuUPuHFaApsCXmESoZJW",
     "timestamp": 1621629054621
    }
   ],
   "toc_visible": true
  },
  "kernelspec": {
   "display_name": "Python 3",
   "language": "python",
   "name": "python3"
  },
  "language_info": {
   "codemirror_mode": {
    "name": "ipython",
    "version": 3
   },
   "file_extension": ".py",
   "mimetype": "text/x-python",
   "name": "python",
   "nbconvert_exporter": "python",
   "pygments_lexer": "ipython3",
   "version": "3.9.2"
  }
 },
 "nbformat": 4,
 "nbformat_minor": 4
}
