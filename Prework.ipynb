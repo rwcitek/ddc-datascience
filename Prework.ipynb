{
 "cells": [
  {
   "cell_type": "markdown",
   "metadata": {
    "id": "li4U8DGJOu3S"
   },
   "source": [
    "# Prework"
   ]
  },
  {
   "cell_type": "markdown",
   "metadata": {
    "id": "Xz1fx9VqO1vi"
   },
   "source": [
    "**Welcome!!**\n",
    "\n",
    "This will walk you through the steps to set up the tools you will be using for this bootcamp.  Along the way you will also create your first couple of projects!  "
   ]
  },
  {
   "cell_type": "markdown",
   "metadata": {
    "id": "3OgIeJcRypDf"
   },
   "source": [
    "**Except where noted, you should follow along with all of the steps in the videos.**  "
   ]
  },
  {
   "cell_type": "markdown",
   "metadata": {
    "id": "AU7m1hph1o6w"
   },
   "source": [
    "##  Instructor Contact Info"
   ]
  },
  {
   "attachments": {},
   "cell_type": "markdown",
   "metadata": {
    "id": "s-KILCb51rn7"
   },
   "source": [
    "If you have any questions, please contact your instructors.\n",
    "\n",
    "**Lead Instructor**  \n",
    "Robert Citek: rcitek@cnm.edu or **@Robert Citek** on Slack\n",
    "\n",
    "**Assistant Instructor(s)**  \n",
    "Google/Bing/DuckDuckGo search, ChatGPT, your fellow students, alumni on Slack, your professional network on LinkedIn ( usually in that order. )\n"
   ]
  },
  {
   "cell_type": "markdown",
   "metadata": {
    "id": "1P-hSmV4zsj_"
   },
   "source": [
    "## Prework Schedule"
   ]
  },
  {
   "cell_type": "markdown",
   "metadata": {
    "id": "7O30hkCczu4B"
   },
   "source": [
    "Prework is divided into four phases. The first three phases are required. The fourth phase is optional, but is strongly recommended. If the fourth phase is not completed before the bootcamp begins, that's ok as it will be assigned as homework so you will go through the material at some point during the bootcamp.\n",
    "\n",
    "**Due Dates:**\n",
    "* Phase 1 and Phase 2: 1 week before the start of the bootcamp  \n",
    "* Phase 3: Before the start of the bootcamp\n",
    "* Phase 4: Optional ... for now (but recommended)."
   ]
  },
  {
   "cell_type": "markdown",
   "metadata": {
    "id": "T8ql15S0yzSK"
   },
   "source": [
    "## DataCamp Access"
   ]
  },
  {
   "cell_type": "markdown",
   "metadata": {
    "id": "xa6zfjhiy18u"
   },
   "source": [
    "We have partnered with DataCamp to provide you with a free account while you’re in the bootcamp. Some of our prework is done through DataCamp. You will have access to all DataCamp offerings, so feel free to supplement your learning with other DataCamp offerings (as time allows)."
   ]
  },
  {
   "cell_type": "markdown",
   "metadata": {},
   "source": [
    "---"
   ]
  },
  {
   "cell_type": "markdown",
   "metadata": {
    "id": "frtUtzEey7s0"
   },
   "source": [
    "# Phase 1: Pro Dev and Setting Up Accounts"
   ]
  },
  {
   "cell_type": "markdown",
   "metadata": {
    "id": "MVSMjSji0PIV"
   },
   "source": [
    "## Pro Dev Prework\n",
    "\n",
    "Our support staff of coaches and managers want to get to know you before you begin the bootcamp.\n",
    "\n",
    "Our Career Coach/Talent Manager will help you get started on your Professional Development, aka Pro Dev. Please follow these instructions, including a pre-career survey, that will help us customize your experience: \n",
    "[Data Science Coaching Intake Survey](https://forms.office.com/Pages/ResponsePage.aspx?id=awcO9aWG80WHsD9NDsXpTsIUCWtDXvJGhQZTiITAZOZUOEFIOE44OTJHMUdYQ1ZZMjdRM01JNUxaUCQlQCN0PWcu)\n",
    "\n",
    "After setting up your student accounts and filling out the survey, contact our Coach, Sue. Sue would like to meet with you as soon as possible to learn more about you and your goals. Establishing an early relationship with your coach allows us to personalize your success plan. Please let Sue know when you are available to meet so that she can coordinate schedules. Sue can be reached at sandres1@cnm.edu.\n"
   ]
  },
  {
   "cell_type": "markdown",
   "metadata": {
    "id": "Cf4eNE38F9p0"
   },
   "source": [
    "## Password Manager"
   ]
  },
  {
   "attachments": {},
   "cell_type": "markdown",
   "metadata": {
    "id": "8KWxD97CGAwa"
   },
   "source": [
    "**We STRONGLY recommend setting up a password manager if you don't already use one.**  \n",
    "\n",
    "As a data scientist you will have many different user accounts and credentials.  It is important to keep your login information secure.  \n",
    "\n",
    "**It is also important to use a different, strong password for each account.**  \n",
    "- A password manager makes this easy because you don't have to worry about remembering each one (or reusing the same password which is one of the WORST practices for security).  \n",
    "- Password managers also make it easy to generate new random passwords that are more secure than what most people come up with on their own. \n",
    "\n",
    "We recommend [Bitwarden](https://www.bitwarden.com) because it is open source, easy-to-use, availabe on all devices/browsers, and the free version is really free forever.  (Lastpass, Dashlane, or another alternative is OK too.)\n",
    "\n",
    "**Setting up a password manager**  \n",
    "When setting up a password manager, you will pick a 'master password' that will be the encryption key to keep all of your other passwords safe.  You need to make sure to REMEMBER this ONE password.\n",
    "\n",
    "- It is recommended that you pick a phrase you will remember.  \n",
    "- Include some special characters. \n",
    "- Do not reuse an old password for this.\n",
    "\n",
    "In addition to the master password, set up multi-factor or 2-factor authentication ( MFA/2FA ).  [Google Authenticator]( https://googleauthenticator.net/ ), [Authy]( https://authy.com/ ), and [Microsoft Authenticator]( https://www.microsoft.com/en-us/security/mobile-authenticator-app ) are some examples of MFA/2FA mobile apps.\n",
    "\n"
   ]
  },
  {
   "cell_type": "markdown",
   "metadata": {},
   "source": [
    "From XKCD:\n",
    "\n",
    "[![Good password](https://imgs.xkcd.com/comics/password_strength.png)](https://xkcd.com/936/)"
   ]
  },
  {
   "cell_type": "markdown",
   "metadata": {
    "id": "Vk0dbkg90TWc"
   },
   "source": [
    "## DataCamp Free Account"
   ]
  },
  {
   "cell_type": "markdown",
   "metadata": {
    "id": "LkdERXmh3UC3"
   },
   "source": [
    "[This is the DataCamp link](https://www.datacamp.com/). **Be sure to use your CNM.edu email**! Also, just sign up for the free account - we will give you access to the classes when you notify us that your account is active."
   ]
  },
  {
   "cell_type": "markdown",
   "metadata": {
    "id": "4hXhzKXlRheO"
   },
   "source": [
    "## Albuquerque Bernalillo County Library card\n",
    "\n"
   ]
  },
  {
   "cell_type": "markdown",
   "metadata": {
    "id": "t7pagb7dRpuV"
   },
   "source": [
    "There are a number of resources available through the [Albuquerque Bernalillo County Library](https://abqlibrary.org/), including [LinkedIn Learning](https://www.linkedin.com/learning-login/go/cabq).  To access these resources, you will need a library card number and PIN.\n"
   ]
  },
  {
   "cell_type": "markdown",
   "metadata": {
    "id": "v0wCgNHx0tPM"
   },
   "source": [
    "## Google Account"
   ]
  },
  {
   "cell_type": "markdown",
   "metadata": {
    "id": "BIboQkqt07tz"
   },
   "source": [
    "You will need to sign up for a Google Account if you don't already have one.  \n",
    "\n",
    "This is the [link](https://accounts.google.com/signup) to sign up for Gmail/Google. You’ll need a Google account to be able to use Google Colab which we will use to perform data science in the cloud.\n",
    "\n"
   ]
  },
  {
   "cell_type": "markdown",
   "metadata": {
    "id": "78vaS1nNUTIB"
   },
   "source": [
    "## Kaggle\n"
   ]
  },
  {
   "cell_type": "markdown",
   "metadata": {
    "id": "3VMlHkdsUznI"
   },
   "source": [
    "\n",
    "From its [Wikipedia page](https://en.wikipedia.org/wiki/Kaggle): \"Kaggle, a subsidiary of Google LLC, is an online community of data scientists and machine learning practitioners. Kaggle allows users to find and publish data sets, explore and build models in a web-based data-science environment, work with other data scientists and machine learning engineers, and enter competitions to solve data science challenges.\"\n",
    "\n",
    "With [Kaggle](https://www.kaggle.com/) you can sign in using your Google, Facebook, or Yahoo account.  Or you can register with an e-mail and password.\n"
   ]
  },
  {
   "cell_type": "markdown",
   "metadata": {
    "id": "82R1s-5HWF_M"
   },
   "source": [
    "## Cloud Compute Providers\n"
   ]
  },
  {
   "cell_type": "markdown",
   "metadata": {
    "id": "fnhCSsu7WnGT"
   },
   "source": [
    "All cloud providers will want you to register a credit card when you sign up.  All cloud providers have some kind of \"free tier\" offer.  But if you are not careful, it is really easy to exceed that limit and [get stuck with an enormous bill]( https://news.ycombinator.com/item?id=22719573 ).  So, don't start any services until you know what you are doing.  Limit your interaction to just registering."
   ]
  },
  {
   "cell_type": "markdown",
   "metadata": {
    "id": "qQFkudUiWKtZ"
   },
   "source": [
    "### Google Cloud Platform ( GCP )\n",
    "\n"
   ]
  },
  {
   "cell_type": "markdown",
   "metadata": {
    "id": "XbpTMsVzabyz"
   },
   "source": [
    "\n",
    "Sign in to Google then register at [Google Console]( https://console.cloud.google.com/ )\n",
    "\n"
   ]
  },
  {
   "cell_type": "markdown",
   "metadata": {
    "id": "luhww8C8aZTj"
   },
   "source": [
    "### Amazon Web Services ( AWS )\n"
   ]
  },
  {
   "cell_type": "markdown",
   "metadata": {
    "id": "Uw2gRqSVaaOW"
   },
   "source": [
    "\n",
    "Register at [AWS Billing]( https://portal.aws.amazon.com/billing/signup ).\n",
    "\n"
   ]
  },
  {
   "cell_type": "markdown",
   "metadata": {
    "id": "pP-QYMZFaWNA"
   },
   "source": [
    "### Microsoft Azure\n"
   ]
  },
  {
   "cell_type": "markdown",
   "metadata": {
    "id": "XYziEdyoaXj5"
   },
   "source": [
    "\n",
    "Register at [Azure free]( https://azure.microsoft.com/en-us/free/ ).\n"
   ]
  },
  {
   "cell_type": "markdown",
   "metadata": {},
   "source": [
    "## Docker Hub"
   ]
  },
  {
   "cell_type": "markdown",
   "metadata": {},
   "source": [
    "\"Docker Hub is the world's easiest way to create, manage, and deliver your team's container applications.\"\n",
    "\n",
    "Register at [Docker Hub]( https://hub.docker.com/signup )"
   ]
  },
  {
   "cell_type": "markdown",
   "metadata": {
    "id": "x0TQTauhQn7n"
   },
   "source": [
    "## Slack"
   ]
  },
  {
   "cell_type": "markdown",
   "metadata": {
    "id": "2WrpkbuYxC5V"
   },
   "source": [
    "\n",
    "You should get an email invite to join Deep Dive Coding's Slack group.  Do this as soon as possible.\n",
    "\n",
    "Slack is the best way to contact your instructors if you have any questions about the prework.\n",
    "\n",
    "You will also be added to a Slack channel for your cohort where you can introduce yourself to your classmates and ask them for help as well. (It will be titled #cohort-datascience\\_ where the \\_ is your cohort number.)"
   ]
  },
  {
   "cell_type": "markdown",
   "metadata": {
    "id": "LBUZF2PDFCbt"
   },
   "source": [
    "## Creating a Github Account"
   ]
  },
  {
   "cell_type": "markdown",
   "metadata": {
    "id": "QLiKa-j-xmeK"
   },
   "source": [
    "*If you already have a Github account, you can skip this step.*\n",
    "\n",
    "You will need to create a Github account at www.github.com.  You can follow along with the instructions in the video below.  Here are a few things to keep in mind along the way:\n",
    "\n",
    "- Pick a username that is professional and that you are willing to share with potential employers.\n",
    "- Do NOT use your CNM email address because once you are no longer a student it may not always be available to you.  \n",
    "- Store your username and password in a password manager.\n"
   ]
  },
  {
   "cell_type": "markdown",
   "metadata": {
    "id": "AOBPN1ysm77B"
   },
   "source": [
    "[Creating a GitHub Account - YouTube video](https://www.youtube.com/watch?v=Bh2BbUUs808)."
   ]
  },
  {
   "cell_type": "markdown",
   "metadata": {
    "id": "ppXS2het1Knb"
   },
   "source": [
    "##  Send Account Information to Your Instructors"
   ]
  },
  {
   "cell_type": "markdown",
   "metadata": {
    "id": "Ku5pCG6a1QAo"
   },
   "source": [
    "You will need to email or Slack the following information to your instructors to have this phase marked as complete:  \n",
    "- URL of your Github profile\n",
    "- Your Gmail address\n",
    "- Your CNM email address"
   ]
  },
  {
   "attachments": {},
   "cell_type": "markdown",
   "metadata": {},
   "source": [
    "---"
   ]
  },
  {
   "cell_type": "markdown",
   "metadata": {
    "id": "T4mnzJ2FzGj8"
   },
   "source": [
    "# Phase 2: Installing Software and Intro to the Toolchain"
   ]
  },
  {
   "cell_type": "markdown",
   "metadata": {
    "id": "YI_R6bKnQj-p"
   },
   "source": [
    "## Using Github with Google Colab\n",
    "\n",
    "You do NOT have to follow along with this video, but you DO need to watch it before proceeding."
   ]
  },
  {
   "cell_type": "markdown",
   "metadata": {
    "id": "wXns8Zx-m77R"
   },
   "source": [
    "[Using GitHub with Google Colab - YouTube video](https://www.youtube.com/watch?v=qCHH2_UoXfw)."
   ]
  },
  {
   "cell_type": "markdown",
   "metadata": {
    "id": "MHXEUldOPtvz"
   },
   "source": [
    "## Your First Google Colab Project: Plotting Stamp Prices"
   ]
  },
  {
   "cell_type": "markdown",
   "metadata": {
    "id": "XkHSuG3_PyOd"
   },
   "source": [
    "Watch the video below for instructions on completing this project.\n",
    "\n",
    "Below are the links for the data used in this project. \n",
    "\n",
    "Here is the link to cite in your text block:\n",
    "https://vincentarelbundock.github.io/Rdatasets/datasets.html\n",
    "\n",
    "Here is the link to use for actually importing the data using pd.read_csv():\n",
    "https://vincentarelbundock.github.io/Rdatasets/csv/Stat2Data/USstamps.csv"
   ]
  },
  {
   "cell_type": "markdown",
   "metadata": {
    "id": "oWvGZryZm77T"
   },
   "source": [
    "[First Google Colab Project - YouTube video](https://www.youtube.com/watch?v=lfvBMyEll1I)."
   ]
  },
  {
   "cell_type": "markdown",
   "metadata": {
    "id": "9L5t_gy7QUBR"
   },
   "source": [
    "**When you have completed this project, send the link to your Github project for it to your instructors via Slack.**"
   ]
  },
  {
   "cell_type": "markdown",
   "metadata": {
    "id": "ipGH567q8JkP"
   },
   "source": [
    "##  Command Line Basics"
   ]
  },
  {
   "cell_type": "markdown",
   "metadata": {
    "id": "opXQEvO4oIyZ"
   },
   "source": [
    "Watch the video below to learn about command line basics. "
   ]
  },
  {
   "cell_type": "markdown",
   "metadata": {
    "id": "juwlmCNQm77W"
   },
   "source": [
    "[Command Line Basics - YouTube video](https://www.youtube.com/watch?v=UtO11QUzxWY).\n"
   ]
  },
  {
   "cell_type": "markdown",
   "metadata": {},
   "source": [
    "---"
   ]
  },
  {
   "cell_type": "markdown",
   "metadata": {
    "id": "mChckqdizZsn"
   },
   "source": [
    "# Phase 3: DataCamp Classes"
   ]
  },
  {
   "cell_type": "markdown",
   "metadata": {
    "id": "d4UyhQ7f2GKX"
   },
   "source": [
    "**Python Basics:** Complete the DataCamp course [\"Introduction to Python\"](https://app.datacamp.com/learn/courses/intro-to-python-for-data-science)"
   ]
  },
  {
   "cell_type": "markdown",
   "metadata": {},
   "source": [
    "---"
   ]
  },
  {
   "cell_type": "markdown",
   "metadata": {
    "id": "8mmO6Bn5zhXA"
   },
   "source": [
    "# Phase 4: DataCamp Classes (Optional)"
   ]
  },
  {
   "cell_type": "markdown",
   "metadata": {
    "id": "Rz7cQFGj2SuP"
   },
   "source": [
    "This phase is optional, but highly recommended.  \n",
    "\n",
    "**SQL:** Complete the DataCamp course [\"Introduction to SQL\"](https://app.datacamp.com/learn/courses/introduction-to-sql)\n",
    "\n"
   ]
  },
  {
   "cell_type": "markdown",
   "metadata": {
    "id": "DBJZfIzL0lQi"
   },
   "source": [
    "# Extra ( Optional )\n",
    "\n",
    "If you have completed all of the prework and would like to explore more, feel free to take more DataCamp courses.  In addition, you are welcome to explore the courses available via LinkedIn Learning.  Here's a sampling of survey courses in Data Science:\n",
    "\n",
    "1. [The Data Science of Economics, Banking, and Finance, with Barton Poulson]( https://www.linkedin.com/learning/the-data-science-of-economics-banking-and-finance-with-barton-poulson )\n",
    "1. [The Data Science of Educational Management and Policy, with Barton Poulson]( https://www.linkedin.com/learning/the-data-science-of-educational-management-and-policy-with-barton-poulson )\n",
    "1. [The Data Science of Gaming and Fantasy Sports]( https://www.linkedin.com/learning/the-data-science-of-gaming-and-fantasy-sports )\n",
    "1. [The Data Science of Government and Political Science, with Barton Poulson]( https://www.linkedin.com/learning/the-data-science-of-government-and-political-science-with-barton-poulson )\n",
    "1. [The Data Science of Healthcare, Medicine, and Public Health]( https://www.linkedin.com/learning/the-data-science-of-healthcare-medicine-and-public-health )\n",
    "1. [The Data Science of Media and Entertainment with Barton Poulson]( https://www.linkedin.com/learning/the-data-science-of-media-and-entertainment-with-barton-poulson )\n",
    "1. [The Data Science of Nonprofit Service Organizations, with Barton Poulson]( https://www.linkedin.com/learning/the-data-science-of-nonprofit-service-organizations-with-barton-poulson )\n",
    "1. [The Data Science of Retail, Sales, and Commerce]( https://www.linkedin.com/learning/the-data-science-of-retail-sales-and-commerce )\n",
    "1. [The Data Science of Sports Management, with Barton Poulson]( https://www.linkedin.com/learning/the-data-science-of-sports-management-with-barton-poulson )\n"
   ]
  }
 ],
 "metadata": {
  "colab": {
   "provenance": []
  },
  "kernelspec": {
   "display_name": "Python 3 (ipykernel)",
   "language": "python",
   "name": "python3"
  },
  "language_info": {
   "codemirror_mode": {
    "name": "ipython",
    "version": 3
   },
   "file_extension": ".py",
   "mimetype": "text/x-python",
   "name": "python",
   "nbconvert_exporter": "python",
   "pygments_lexer": "ipython3",
   "version": "3.10.8"
  }
 },
 "nbformat": 4,
 "nbformat_minor": 4
}
