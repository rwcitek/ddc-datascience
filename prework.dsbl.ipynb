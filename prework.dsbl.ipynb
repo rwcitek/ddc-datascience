{
 "cells": [
  {
   "attachments": {},
   "cell_type": "markdown",
   "metadata": {
    "id": "li4U8DGJOu3S"
   },
   "source": [
    "# Welcome to Data Science for Business Leaders"
   ]
  },
  {
   "cell_type": "markdown",
   "metadata": {
    "id": "AU7m1hph1o6w"
   },
   "source": [
    "##  Instructor Contact Info"
   ]
  },
  {
   "attachments": {},
   "cell_type": "markdown",
   "metadata": {
    "id": "s-KILCb51rn7"
   },
   "source": [
    "If you have any questions, please contact your instructors.\n",
    "\n",
    "**Lead Instructor**  \n",
    "Robert Citek: rcitek@cnm.edu\n",
    "\n",
    "**Assistant Instructor**  \n",
    "Joseph Olonia: jolonia1@cnm.edu\n"
   ]
  },
  {
   "attachments": {},
   "cell_type": "markdown",
   "metadata": {
    "id": "DBJZfIzL0lQi"
   },
   "source": [
    "# Overview of Data Science\n",
    "\n",
    "The [Albuquerque Bernalillo Public Library]( https://abqlibrary.org/home ) has made LinkedIn Learning available to its patrons.  The LinkedIn Learning service has a number of instructional videos about Data Science, including the survey courses listed below.  Please feel free to pick one or two that most closely match your current field of work.\n",
    "\n",
    "To view them, log in to the LinkedIn Learning site with your ABQ library ID number and PIN:\n",
    "\n",
    "[https://www.linkedin.com/learning-login/go/cabq]( https://www.linkedin.com/learning-login/go/cabq )\n",
    "\n",
    "If you do not have a library card, the ABQ library website has [a page with instructions to get a card]( https://abqlibrary.org/CatalogFAQ/General#s-lg-box-30757695 ).  In brief, [visit a branch]( https://abqlibrary.org/hours-locations ), fill out a form, provide proof of a mailing address, and get a card.\n",
    "\n",
    "Then click on any of the links below.\n",
    "\n",
    "\n",
    "1. [The Data Science of Economics, Banking, and Finance, with Barton Poulson]( https://www.linkedin.com/learning/the-data-science-of-economics-banking-and-finance-with-barton-poulson )\n",
    "1. [The Data Science of Educational Management and Policy, with Barton Poulson]( https://www.linkedin.com/learning/the-data-science-of-educational-management-and-policy-with-barton-poulson )\n",
    "1. [The Data Science of Gaming and Fantasy Sports]( https://www.linkedin.com/learning/the-data-science-of-gaming-and-fantasy-sports )\n",
    "1. [The Data Science of Government and Political Science, with Barton Poulson]( https://www.linkedin.com/learning/the-data-science-of-government-and-political-science-with-barton-poulson )\n",
    "1. [The Data Science of Healthcare, Medicine, and Public Health]( https://www.linkedin.com/learning/the-data-science-of-healthcare-medicine-and-public-health )\n",
    "1. [The Data Science of Media and Entertainment with Barton Poulson]( https://www.linkedin.com/learning/the-data-science-of-media-and-entertainment-with-barton-poulson )\n",
    "1. [The Data Science of Nonprofit Service Organizations, with Barton Poulson]( https://www.linkedin.com/learning/the-data-science-of-nonprofit-service-organizations-with-barton-poulson )\n",
    "1. [The Data Science of Retail, Sales, and Commerce]( https://www.linkedin.com/learning/the-data-science-of-retail-sales-and-commerce )\n",
    "1. [The Data Science of Sports Management, with Barton Poulson]( https://www.linkedin.com/learning/the-data-science-of-sports-management-with-barton-poulson )\n"
   ]
  },
  {
   "cell_type": "markdown",
   "metadata": {},
   "source": []
  }
 ],
 "metadata": {
  "colab": {
   "provenance": []
  },
  "kernelspec": {
   "display_name": "Python 3 (ipykernel)",
   "language": "python",
   "name": "python3"
  },
  "language_info": {
   "codemirror_mode": {
    "name": "ipython",
    "version": 3
   },
   "file_extension": ".py",
   "mimetype": "text/x-python",
   "name": "python",
   "nbconvert_exporter": "python",
   "pygments_lexer": "ipython3",
   "version": "3.10.8"
  }
 },
 "nbformat": 4,
 "nbformat_minor": 4
}
