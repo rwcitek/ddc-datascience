{
 "cells": [
  {
   "attachments": {},
   "cell_type": "markdown",
   "metadata": {
    "id": "DBJZfIzL0lQi"
   },
   "source": [
    "# Libraries and LinkedIn Learning\n",
    "\n",
    "Many libraries have partnered with LinkedIn Learning, formerly known as Lynda.com.  Visit the LinkedIn Learning site of your library and then look for a topic of interest."
   ]
  },
  {
   "attachments": {},
   "cell_type": "markdown",
   "metadata": {},
   "source": [
    "A sampling of libraries that have partnered with LinkedIn Learning:\n",
    "- Oregon:\n",
    "    - [Washington County Cooperative Library Services]( https://www.linkedin.com/learning-login/go/wccls )\n",
    "    - [Multnomah County Library]( https://www.linkedin.com/learning-login/go/mcl )\n",
    "- New Mexico:\n",
    "    - [Albuquerque and Bernalillo County library](https://www.linkedin.com/learning-login/go/cabq)\n",
    "    - [Farmington Public Library]( https://www.linkedin.com/learning-login/go/infoway )\n",
    "- Missouri:\n",
    "    - [Saint Louis City]( https://www.linkedin.com/learning-login/go/stlouispubliclibrary )\n",
    "    - [Saint Louis County]( https://www.linkedin.com/learning-login/go/stlouispubliclibrary )\n",
    "- Michigan:\n",
    "    - [Grand Rapids Public Library]( https://www.linkedin.com/learning-login/go/grpl )\n",
    "    - [Farmington Community Library(?)]( https://www.linkedin.com/learning-login/go/smrla )\n",
    "- Wyoming\n",
    "    - [The Wyoming State Library]( https://www.linkedin.com/learning-login/go/wsl )\n"
   ]
  },
  {
   "attachments": {},
   "cell_type": "markdown",
   "metadata": {},
   "source": [
    "Here's a sampling of survey courses in Data Science:\n",
    "\n",
    "1. [The Data Science of Economics, Banking, and Finance, with Barton Poulson]( https://www.linkedin.com/learning/the-data-science-of-economics-banking-and-finance-with-barton-poulson )\n",
    "1. [The Data Science of Educational Management and Policy, with Barton Poulson]( https://www.linkedin.com/learning/the-data-science-of-educational-management-and-policy-with-barton-poulson )\n",
    "1. [The Data Science of Gaming and Fantasy Sports]( https://www.linkedin.com/learning/the-data-science-of-gaming-and-fantasy-sports )\n",
    "1. [The Data Science of Government and Political Science, with Barton Poulson]( https://www.linkedin.com/learning/the-data-science-of-government-and-political-science-with-barton-poulson )\n",
    "1. [The Data Science of Healthcare, Medicine, and Public Health]( https://www.linkedin.com/learning/the-data-science-of-healthcare-medicine-and-public-health )\n",
    "1. [The Data Science of Media and Entertainment with Barton Poulson]( https://www.linkedin.com/learning/the-data-science-of-media-and-entertainment-with-barton-poulson )\n",
    "1. [The Data Science of Nonprofit Service Organizations, with Barton Poulson]( https://www.linkedin.com/learning/the-data-science-of-nonprofit-service-organizations-with-barton-poulson )\n",
    "1. [The Data Science of Retail, Sales, and Commerce]( https://www.linkedin.com/learning/the-data-science-of-retail-sales-and-commerce )\n",
    "1. [The Data Science of Sports Management, with Barton Poulson]( https://www.linkedin.com/learning/the-data-science-of-sports-management-with-barton-poulson )\n"
   ]
  }
 ],
 "metadata": {
  "colab": {
   "provenance": []
  },
  "kernelspec": {
   "display_name": "Python 3 (ipykernel)",
   "language": "python",
   "name": "python3"
  },
  "language_info": {
   "codemirror_mode": {
    "name": "ipython",
    "version": 3
   },
   "file_extension": ".py",
   "mimetype": "text/x-python",
   "name": "python",
   "nbconvert_exporter": "python",
   "pygments_lexer": "ipython3",
   "version": "3.10.8"
  }
 },
 "nbformat": 4,
 "nbformat_minor": 4
}
