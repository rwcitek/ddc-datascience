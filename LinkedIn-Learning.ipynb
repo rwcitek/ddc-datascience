{
 "cells": [
  {
   "attachments": {},
   "cell_type": "markdown",
   "metadata": {
    "id": "DBJZfIzL0lQi"
   },
   "source": [
    "# LinkedIn Learning\n",
    "\n",
    "Most libraries have partnered with LinkedIn Learning.  Visit the LinkedIn Learning site for your library ( for example the [ABQ library](https://www.linkedin.com/learning-login/go/cabq) ) and then look for a topic of interest.\n",
    "\n",
    "Here's a sampling of survey courses in Data Science:\n",
    "\n",
    "1. [The Data Science of Economics, Banking, and Finance, with Barton Poulson]( https://www.linkedin.com/learning/the-data-science-of-economics-banking-and-finance-with-barton-poulson )\n",
    "1. [The Data Science of Educational Management and Policy, with Barton Poulson]( https://www.linkedin.com/learning/the-data-science-of-educational-management-and-policy-with-barton-poulson )\n",
    "1. [The Data Science of Gaming and Fantasy Sports]( https://www.linkedin.com/learning/the-data-science-of-gaming-and-fantasy-sports )\n",
    "1. [The Data Science of Government and Political Science, with Barton Poulson]( https://www.linkedin.com/learning/the-data-science-of-government-and-political-science-with-barton-poulson )\n",
    "1. [The Data Science of Healthcare, Medicine, and Public Health]( https://www.linkedin.com/learning/the-data-science-of-healthcare-medicine-and-public-health )\n",
    "1. [The Data Science of Media and Entertainment with Barton Poulson]( https://www.linkedin.com/learning/the-data-science-of-media-and-entertainment-with-barton-poulson )\n",
    "1. [The Data Science of Nonprofit Service Organizations, with Barton Poulson]( https://www.linkedin.com/learning/the-data-science-of-nonprofit-service-organizations-with-barton-poulson )\n",
    "1. [The Data Science of Retail, Sales, and Commerce]( https://www.linkedin.com/learning/the-data-science-of-retail-sales-and-commerce )\n",
    "1. [The Data Science of Sports Management, with Barton Poulson]( https://www.linkedin.com/learning/the-data-science-of-sports-management-with-barton-poulson )\n"
   ]
  }
 ],
 "metadata": {
  "colab": {
   "provenance": []
  },
  "kernelspec": {
   "display_name": "Python 3 (ipykernel)",
   "language": "python",
   "name": "python3"
  },
  "language_info": {
   "codemirror_mode": {
    "name": "ipython",
    "version": 3
   },
   "file_extension": ".py",
   "mimetype": "text/x-python",
   "name": "python",
   "nbconvert_exporter": "python",
   "pygments_lexer": "ipython3",
   "version": "3.10.8"
  }
 },
 "nbformat": 4,
 "nbformat_minor": 4
}
